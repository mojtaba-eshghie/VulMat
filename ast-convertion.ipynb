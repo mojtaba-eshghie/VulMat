{
 "cells": [
  {
   "cell_type": "code",
   "execution_count": 19,
   "metadata": {},
   "outputs": [],
   "source": [
    "import json\n",
    "import solcx\n",
    "import solcast\n",
    "import re"
   ]
  },
  {
   "cell_type": "code",
   "execution_count": 20,
   "metadata": {},
   "outputs": [],
   "source": [
    "individually_compiled_ast = json.loads(open('./compile_ast.json', 'r').read())\n",
    "retrieved_from_dataset_ast = json.loads(open('./ready_ast.json', 'r').read())\n",
    "synthesized_indivdually_compiled_ast = {\n",
    "    \"absolutePath\": \"\",\n",
    "    \"exportedSymbols\": {\n",
    "    },\n",
    "    \"id\":None,\n",
    "    \"license\":\"MIT\",\n",
    "    \"nodeType\":\"SourceUnit\",\n",
    "    \"nodes\": [],\n",
    "    \"src\":\"\"\n",
    "}"
   ]
  },
  {
   "cell_type": "code",
   "execution_count": 21,
   "metadata": {},
   "outputs": [],
   "source": [
    "#retrieved_from_dataset_ast[\"exportedSymbols\"]"
   ]
  },
  {
   "cell_type": "markdown",
   "metadata": {},
   "source": [
    "### Let's try to convert another more encompassing example using both approaches"
   ]
  },
  {
   "cell_type": "code",
   "execution_count": 24,
   "metadata": {},
   "outputs": [
    {
     "name": "stdout",
     "output_type": "stream",
     "text": [
      "An error occurred during execution\n",
      "> command: `/Users/mojtabaeshghie/.solcx/solc-v0.8.20 --combined-json ast --overwrite -`\n",
      "> return code: `1`\n",
      "> stdout:\n",
      "\n",
      "> stderr:\n",
      "Error: Source file requires different compiler version (current compiler is 0.8.20+commit.a1b79de6.Darwin.appleclang) - note that nightly builds are considered to be strictly less than the released version\n",
      "  --> <stdin>:85:1:\n",
      "   |\n",
      "85 | pragma solidity >=0.6.10 <0.8.0;\n",
      "   | ^^^^^^^^^^^^^^^^^^^^^^^^^^^^^^^^\n"
     ]
    }
   ],
   "source": [
    "#file_path = './simple-contract/simple.sol'\n",
    "file_path = './simple-contract/ExchangeRoles.sol'\n",
    "\n",
    "try:\n",
    "    with open(file_path, 'r') as fp:\n",
    "        content = fp.read()\n",
    "        pragma = re.search(r'pragma solidity.*', content, re.MULTILINE).group(0)\n",
    "\n",
    "except Exception as e:\n",
    "    print(f'Error getting solc version for {file_path}: {e}')\n",
    "\n",
    "\n",
    "if pragma:\n",
    "    try:\n",
    "        solcx.set_solc_version_pragma(pragma)\n",
    "\n",
    "    except Exception as e:\n",
    "                print(f'File: {file_path}')\n",
    "                print(f'Error setting solc version to {pragma}: {e}')\n",
    "    try:\n",
    "        with open(file_path, 'r') as f:\n",
    "            content = f.read()\n",
    "\n",
    "        result = solcx.compile_source(content, \n",
    "                                output_values=[\"ast\"],\n",
    "                                overwrite=True,\n",
    "                                allow_empty=True\n",
    "                                )\n",
    "        \n",
    "        with open('./simple-contract/compile_source_ast.json', 'w') as f:\n",
    "            json.dump(result, f, indent=4)\n",
    "    except Exception as e:\n",
    "        print(e)\n"
   ]
  },
  {
   "cell_type": "code",
   "execution_count": 25,
   "metadata": {},
   "outputs": [
    {
     "name": "stdout",
     "output_type": "stream",
     "text": [
      "File: ./simple-contract/ExchangeRoles.sol\n",
      "Error setting solc version to pragma solidity ^0.8.0;: ParserError: Source file requires different compiler version (current compiler is 0.8.20+commit.a1b79de6.Darwin.appleclang) - note that nightly builds are considered to be strictly less than the released version\n",
      "  --> ./simple-contract/ExchangeRoles.sol:85:1:\n",
      "   |\n",
      "85 | pragma solidity >=0.6.10 <0.8.0;\n",
      "   | ^^^^^^^^^^^^^^^^^^^^^^^^^^^^^^^^\n",
      "\n",
      "\n",
      "> command: `/Users/mojtabaeshghie/.solcx/solc-v0.8.20 --standard-json`\n",
      "> return code: `0`\n",
      "> stdout:\n",
      "{\"errors\":[{\"component\":\"general\",\"errorCode\":\"5333\",\"formattedMessage\":\"ParserError: Source file requires different compiler version (current compiler is 0.8.20+commit.a1b79de6.Darwin.appleclang) - note that nightly builds are considered to be strictly less than the released version\\n  --> ./simple-contract/ExchangeRoles.sol:85:1:\\n   |\\n85 | pragma solidity >=0.6.10 <0.8.0;\\n   | ^^^^^^^^^^^^^^^^^^^^^^^^^^^^^^^^\\n\\n\",\"message\":\"Source file requires different compiler version (current compiler is 0.8.20+commit.a1b79de6.Darwin.appleclang) - note that nightly builds are considered to be strictly less than the released version\",\"severity\":\"error\",\"sourceLocation\":{\"end\":3012,\"file\":\"./simple-contract/ExchangeRoles.sol\",\"start\":2980},\"type\":\"ParserError\"}],\"sources\":{}}\n",
      "\n",
      "> stderr:\n"
     ]
    }
   ],
   "source": [
    "source_code = open(file_path, 'r').read()\n",
    "\n",
    "input_json = {\n",
    "        'language': 'Solidity',\n",
    "        'sources': {file_path: {'content': source_code}},\n",
    "        'settings': {\n",
    "            'outputSelection': {\n",
    "                '*': {\n",
    "                    '*': ['metadata', 'evm.bytecode', 'evm.bytecode.sourceMap', 'abi'],\n",
    "                    '': ['ast']  # Requesting AST output here\n",
    "                }\n",
    "            }\n",
    "        }\n",
    "    }\n",
    "\n",
    "with open(file_path, 'r') as fp:\n",
    "    content = fp.read()\n",
    "    pragma = re.search(r'pragma solidity.*', content, re.MULTILINE).group(0)\n",
    "\n",
    "    if pragma:\n",
    "\n",
    "        try:\n",
    "            solcx.set_solc_version_pragma(pragma)\n",
    "            with open(file_path, 'r') as f:\n",
    "                content = f.read()\n",
    "\n",
    "            # result = solcx.compile_source(content, \n",
    "            #                      output_values=[\"ast\"],\n",
    "            #                      overwrite=True,\n",
    "            #                      allow_empty=True\n",
    "            #                      )\n",
    "            output_json = solcx.compile_standard(input_json)\n",
    "            with open('./simple-contract/compile_standard_ast.json', 'w') as f:\n",
    "                json.dump(output_json, f, indent=4)\n",
    "\n",
    "        except Exception as e:\n",
    "            print(f'File: {file_path}')\n",
    "            print(f'Error setting solc version to {pragma}: {e}')\n",
    "            "
   ]
  },
  {
   "cell_type": "code",
   "execution_count": null,
   "metadata": {},
   "outputs": [],
   "source": []
  }
 ],
 "metadata": {
  "kernelspec": {
   "display_name": "base",
   "language": "python",
   "name": "python3"
  },
  "language_info": {
   "codemirror_mode": {
    "name": "ipython",
    "version": 3
   },
   "file_extension": ".py",
   "mimetype": "text/x-python",
   "name": "python",
   "nbconvert_exporter": "python",
   "pygments_lexer": "ipython3",
   "version": "3.8.17"
  }
 },
 "nbformat": 4,
 "nbformat_minor": 2
}
