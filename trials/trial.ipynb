{
 "cells": [
  {
   "cell_type": "code",
   "execution_count": null,
   "metadata": {},
   "outputs": [],
   "source": [
    "from packaging.version import Version, parse\n",
    "from typing import List, Tuple"
   ]
  },
  {
   "cell_type": "code",
   "execution_count": null,
   "metadata": {},
   "outputs": [],
   "source": [
    "def parse_pragma(pragma: str) -> Tuple[str, str]:\n",
    "    parts = pragma.split()\n",
    "    version_spec = parts[2].replace(\";\", \"\")\n",
    "    if version_spec[0] in ['^', '>', '<', '=', '>=', '<=']:\n",
    "        operator = version_spec[0]\n",
    "        ver = version_spec[1:] if operator != '=' else version_spec\n",
    "    else:\n",
    "        operator = '='\n",
    "        ver = version_spec\n",
    "    if version_spec.startswith('>=') or version_spec.startswith('<='):\n",
    "        operator = version_spec[:2]\n",
    "        ver = version_spec[2:]\n",
    "    return operator, ver\n",
    "\n",
    "def next_major(ver: Version) -> Version:\n",
    "    return parse(f\"{ver.major + 1}.0.0\")\n",
    "\n",
    "def satisfies_constraint(version: Version, operator: str, constraint: Version) -> bool:\n",
    "    if operator == '^':\n",
    "        return constraint <= version < next_major(constraint)\n",
    "    elif operator == '>':\n",
    "        return version > constraint\n",
    "    elif operator == '<':\n",
    "        return version < constraint\n",
    "    elif operator == '>=':\n",
    "        return version >= constraint\n",
    "    elif operator == '<=':\n",
    "        return version <= constraint\n",
    "    elif operator == '=':\n",
    "        return version == constraint\n",
    "\n",
    "def find_compatible_version(versions: List[str]) -> str:\n",
    "    try:\n",
    "        constraints = [parse_pragma(v) for v in versions]\n",
    "        possible_versions = [parse(f\"0.{i}.0\") for i in range(1, 13)]\n",
    "\n",
    "        for possible_version in possible_versions:\n",
    "            if all(satisfies_constraint(possible_version, op, parse(ver)) for op, ver in constraints):\n",
    "                return f\"{possible_version}\"\n",
    "    except:\n",
    "        pass\n",
    "    return None\n"
   ]
  },
  {
   "cell_type": "code",
   "execution_count": 105,
   "metadata": {},
   "outputs": [
    {
     "ename": "InvalidVersion",
     "evalue": "Invalid version: '.6.0'",
     "output_type": "error",
     "traceback": [
      "\u001b[0;31m---------------------------------------------------------------------------\u001b[0m",
      "\u001b[0;31mInvalidVersion\u001b[0m                            Traceback (most recent call last)",
      "Cell \u001b[0;32mIn[105], line 66\u001b[0m\n\u001b[1;32m     57\u001b[0m \u001b[38;5;66;03m# Example usage\u001b[39;00m\n\u001b[1;32m     58\u001b[0m pragmas \u001b[38;5;241m=\u001b[39m [\n\u001b[1;32m     59\u001b[0m     \u001b[38;5;124m\"\u001b[39m\u001b[38;5;124mpragma solidity ^0.6.0;\u001b[39m\u001b[38;5;124m\"\u001b[39m,\n\u001b[1;32m     60\u001b[0m     \u001b[38;5;124m\"\u001b[39m\u001b[38;5;124mpragma solidity ^0.6.0;\u001b[39m\u001b[38;5;124m\"\u001b[39m,\n\u001b[0;32m   (...)\u001b[0m\n\u001b[1;32m     64\u001b[0m     \u001b[38;5;124m\"\u001b[39m\u001b[38;5;124mpragma solidity ^0.6.0;\u001b[39m\u001b[38;5;124m\"\u001b[39m\n\u001b[1;32m     65\u001b[0m ]\n\u001b[0;32m---> 66\u001b[0m \u001b[38;5;28mprint\u001b[39m(\u001b[43mfind_compatible_version\u001b[49m\u001b[43m(\u001b[49m\u001b[43mpragmas\u001b[49m\u001b[43m)\u001b[49m)\n",
      "Cell \u001b[0;32mIn[105], line 49\u001b[0m, in \u001b[0;36mfind_compatible_version\u001b[0;34m(pragmas)\u001b[0m\n\u001b[1;32m     48\u001b[0m \u001b[38;5;28;01mdef\u001b[39;00m \u001b[38;5;21mfind_compatible_version\u001b[39m(pragmas: List[\u001b[38;5;28mstr\u001b[39m]) \u001b[38;5;241m-\u001b[39m\u001b[38;5;241m>\u001b[39m \u001b[38;5;28mstr\u001b[39m:\n\u001b[0;32m---> 49\u001b[0m     constraints \u001b[38;5;241m=\u001b[39m \u001b[43mdeduplicate_constraints\u001b[49m\u001b[43m(\u001b[49m\u001b[43m[\u001b[49m\u001b[43mparse_pragma\u001b[49m\u001b[43m(\u001b[49m\u001b[43mpragma\u001b[49m\u001b[43m)\u001b[49m\u001b[43m \u001b[49m\u001b[38;5;28;43;01mfor\u001b[39;49;00m\u001b[43m \u001b[49m\u001b[43mpragma\u001b[49m\u001b[43m \u001b[49m\u001b[38;5;129;43;01min\u001b[39;49;00m\u001b[43m \u001b[49m\u001b[43mpragmas\u001b[49m\u001b[43m]\u001b[49m\u001b[43m)\u001b[49m\n\u001b[1;32m     50\u001b[0m     \u001b[38;5;28;01mfor\u001b[39;00m major \u001b[38;5;129;01min\u001b[39;00m \u001b[38;5;28mrange\u001b[39m(\u001b[38;5;241m0\u001b[39m, \u001b[38;5;241m13\u001b[39m):  \u001b[38;5;66;03m# Assuming Solidity versions up to 0.12.x are relevant\u001b[39;00m\n\u001b[1;32m     51\u001b[0m         \u001b[38;5;28;01mfor\u001b[39;00m minor \u001b[38;5;129;01min\u001b[39;00m \u001b[38;5;28mrange\u001b[39m(\u001b[38;5;241m0\u001b[39m, \u001b[38;5;241m10\u001b[39m):  \u001b[38;5;66;03m# Minor version loop\u001b[39;00m\n",
      "Cell \u001b[0;32mIn[105], line 21\u001b[0m, in \u001b[0;36mdeduplicate_constraints\u001b[0;34m(constraints)\u001b[0m\n\u001b[1;32m     19\u001b[0m \u001b[38;5;250m\u001b[39m\u001b[38;5;124;03m\"\"\"Remove duplicate constraints and parse versions.\"\"\"\u001b[39;00m\n\u001b[1;32m     20\u001b[0m unique_constraints: Set[Tuple[\u001b[38;5;28mstr\u001b[39m, \u001b[38;5;28mstr\u001b[39m]] \u001b[38;5;241m=\u001b[39m \u001b[38;5;28mset\u001b[39m(constraints)\n\u001b[0;32m---> 21\u001b[0m \u001b[38;5;28;01mreturn\u001b[39;00m [(op, parse(ver)) \u001b[38;5;28;01mfor\u001b[39;00m op, ver \u001b[38;5;129;01min\u001b[39;00m unique_constraints]\n",
      "Cell \u001b[0;32mIn[105], line 21\u001b[0m, in \u001b[0;36m<listcomp>\u001b[0;34m(.0)\u001b[0m\n\u001b[1;32m     19\u001b[0m \u001b[38;5;250m\u001b[39m\u001b[38;5;124;03m\"\"\"Remove duplicate constraints and parse versions.\"\"\"\u001b[39;00m\n\u001b[1;32m     20\u001b[0m unique_constraints: Set[Tuple[\u001b[38;5;28mstr\u001b[39m, \u001b[38;5;28mstr\u001b[39m]] \u001b[38;5;241m=\u001b[39m \u001b[38;5;28mset\u001b[39m(constraints)\n\u001b[0;32m---> 21\u001b[0m \u001b[38;5;28;01mreturn\u001b[39;00m [(op, \u001b[43mparse\u001b[49m\u001b[43m(\u001b[49m\u001b[43mver\u001b[49m\u001b[43m)\u001b[49m) \u001b[38;5;28;01mfor\u001b[39;00m op, ver \u001b[38;5;129;01min\u001b[39;00m unique_constraints]\n",
      "File \u001b[0;32m~/opt/anaconda3/lib/python3.8/site-packages/packaging/version.py:52\u001b[0m, in \u001b[0;36mparse\u001b[0;34m(version)\u001b[0m\n\u001b[1;32m     43\u001b[0m \u001b[38;5;28;01mdef\u001b[39;00m \u001b[38;5;21mparse\u001b[39m(version: \u001b[38;5;28mstr\u001b[39m) \u001b[38;5;241m-\u001b[39m\u001b[38;5;241m>\u001b[39m \u001b[38;5;124m\"\u001b[39m\u001b[38;5;124mVersion\u001b[39m\u001b[38;5;124m\"\u001b[39m:\n\u001b[1;32m     44\u001b[0m \u001b[38;5;250m    \u001b[39m\u001b[38;5;124;03m\"\"\"Parse the given version string.\u001b[39;00m\n\u001b[1;32m     45\u001b[0m \n\u001b[1;32m     46\u001b[0m \u001b[38;5;124;03m    >>> parse('1.0.dev1')\u001b[39;00m\n\u001b[0;32m   (...)\u001b[0m\n\u001b[1;32m     50\u001b[0m \u001b[38;5;124;03m    :raises InvalidVersion: When the version string is not a valid version.\u001b[39;00m\n\u001b[1;32m     51\u001b[0m \u001b[38;5;124;03m    \"\"\"\u001b[39;00m\n\u001b[0;32m---> 52\u001b[0m     \u001b[38;5;28;01mreturn\u001b[39;00m \u001b[43mVersion\u001b[49m\u001b[43m(\u001b[49m\u001b[43mversion\u001b[49m\u001b[43m)\u001b[49m\n",
      "File \u001b[0;32m~/opt/anaconda3/lib/python3.8/site-packages/packaging/version.py:197\u001b[0m, in \u001b[0;36mVersion.__init__\u001b[0;34m(self, version)\u001b[0m\n\u001b[1;32m    195\u001b[0m match \u001b[38;5;241m=\u001b[39m \u001b[38;5;28mself\u001b[39m\u001b[38;5;241m.\u001b[39m_regex\u001b[38;5;241m.\u001b[39msearch(version)\n\u001b[1;32m    196\u001b[0m \u001b[38;5;28;01mif\u001b[39;00m \u001b[38;5;129;01mnot\u001b[39;00m match:\n\u001b[0;32m--> 197\u001b[0m     \u001b[38;5;28;01mraise\u001b[39;00m InvalidVersion(\u001b[38;5;124mf\u001b[39m\u001b[38;5;124m\"\u001b[39m\u001b[38;5;124mInvalid version: \u001b[39m\u001b[38;5;124m'\u001b[39m\u001b[38;5;132;01m{\u001b[39;00mversion\u001b[38;5;132;01m}\u001b[39;00m\u001b[38;5;124m'\u001b[39m\u001b[38;5;124m\"\u001b[39m)\n\u001b[1;32m    199\u001b[0m \u001b[38;5;66;03m# Store the parsed out pieces of the version\u001b[39;00m\n\u001b[1;32m    200\u001b[0m \u001b[38;5;28mself\u001b[39m\u001b[38;5;241m.\u001b[39m_version \u001b[38;5;241m=\u001b[39m _Version(\n\u001b[1;32m    201\u001b[0m     epoch\u001b[38;5;241m=\u001b[39m\u001b[38;5;28mint\u001b[39m(match\u001b[38;5;241m.\u001b[39mgroup(\u001b[38;5;124m\"\u001b[39m\u001b[38;5;124mepoch\u001b[39m\u001b[38;5;124m\"\u001b[39m)) \u001b[38;5;28;01mif\u001b[39;00m match\u001b[38;5;241m.\u001b[39mgroup(\u001b[38;5;124m\"\u001b[39m\u001b[38;5;124mepoch\u001b[39m\u001b[38;5;124m\"\u001b[39m) \u001b[38;5;28;01melse\u001b[39;00m \u001b[38;5;241m0\u001b[39m,\n\u001b[1;32m    202\u001b[0m     release\u001b[38;5;241m=\u001b[39m\u001b[38;5;28mtuple\u001b[39m(\u001b[38;5;28mint\u001b[39m(i) \u001b[38;5;28;01mfor\u001b[39;00m i \u001b[38;5;129;01min\u001b[39;00m match\u001b[38;5;241m.\u001b[39mgroup(\u001b[38;5;124m\"\u001b[39m\u001b[38;5;124mrelease\u001b[39m\u001b[38;5;124m\"\u001b[39m)\u001b[38;5;241m.\u001b[39msplit(\u001b[38;5;124m\"\u001b[39m\u001b[38;5;124m.\u001b[39m\u001b[38;5;124m\"\u001b[39m)),\n\u001b[0;32m   (...)\u001b[0m\n\u001b[1;32m    208\u001b[0m     local\u001b[38;5;241m=\u001b[39m_parse_local_version(match\u001b[38;5;241m.\u001b[39mgroup(\u001b[38;5;124m\"\u001b[39m\u001b[38;5;124mlocal\u001b[39m\u001b[38;5;124m\"\u001b[39m)),\n\u001b[1;32m    209\u001b[0m )\n",
      "\u001b[0;31mInvalidVersion\u001b[0m: Invalid version: '.6.0'"
     ]
    }
   ],
   "source": [
    "from packaging.version import parse, Version\n",
    "from typing import List, Tuple, Set\n",
    "\n",
    "def parse_pragma(pragma: str) -> Tuple[str, str]:\n",
    "    parts = pragma.split()\n",
    "    version_spec = parts[2].replace(\";\", \"\")\n",
    "    if version_spec.startswith(('>=', '<=', '^')):\n",
    "        operator = version_spec[:2]\n",
    "        ver = version_spec[2:]\n",
    "    elif version_spec[0] in ['>', '<', '=']:\n",
    "        operator = version_spec[0]\n",
    "        ver = version_spec[1:]\n",
    "    else:\n",
    "        operator = '='\n",
    "        ver = version_spec\n",
    "    return operator, ver\n",
    "\n",
    "def deduplicate_constraints(constraints: List[Tuple[str, str]]) -> List[Tuple[str, Version]]:\n",
    "    \"\"\"Remove duplicate constraints and parse versions.\"\"\"\n",
    "    unique_constraints: Set[Tuple[str, str]] = set(constraints)\n",
    "    return [(op, parse(ver)) for op, ver in unique_constraints]\n",
    "\n",
    "def satisfies_all_constraints(version: Version, constraints: List[Tuple[str, Version]]) -> bool:\n",
    "    for operator, constraint in constraints:\n",
    "        if operator == '^':\n",
    "            if not (constraint <= version < next_major(constraint)):\n",
    "                return False\n",
    "        elif operator == '>':\n",
    "            if not version > constraint:\n",
    "                return False\n",
    "        elif operator == '<':\n",
    "            if not version < constraint:\n",
    "                return False\n",
    "        elif operator == '>=':\n",
    "            if not version >= constraint:\n",
    "                return False\n",
    "        elif operator == '<=':\n",
    "            if not version <= constraint:\n",
    "                return False\n",
    "        elif operator == '=':\n",
    "            if not version == constraint:\n",
    "                return False\n",
    "    return True\n",
    "\n",
    "def next_major(ver: Version) -> Version:\n",
    "    return parse(f\"{ver.major + 1}.0.0\")\n",
    "\n",
    "def find_compatible_version(pragmas: List[str]) -> str:\n",
    "    constraints = deduplicate_constraints([parse_pragma(pragma) for pragma in pragmas])\n",
    "    for major in range(0, 13):  # Assuming Solidity versions up to 0.12.x are relevant\n",
    "        for minor in range(0, 10):  # Minor version loop\n",
    "            version = parse(f\"{major}.{minor}.0\")\n",
    "            if satisfies_all_constraints(version, constraints):\n",
    "                return f\"Compatible compiler version found: {version}\"\n",
    "    return \"No compatible compiler version found.\"\n",
    "\n",
    "# Example usage\n",
    "pragmas = [\n",
    "    \"pragma solidity ^0.6.0;\",\n",
    "    \"pragma solidity ^0.6.0;\",\n",
    "    \"pragma solidity ^0.6.0;\",\n",
    "    \"pragma solidity ^0.6.2;\",\n",
    "    \"pragma solidity ^0.6.0;\",\n",
    "    \"pragma solidity ^0.6.0;\"\n",
    "]\n",
    "print(find_compatible_version(pragmas))\n"
   ]
  },
  {
   "cell_type": "code",
   "execution_count": 102,
   "metadata": {},
   "outputs": [
    {
     "name": "stdout",
     "output_type": "stream",
     "text": [
      "Compatible compiler version found: 0.8.0\n"
     ]
    }
   ],
   "source": [
    "\n",
    "# Example usage with the corrected function\n",
    "pragmas = [\n",
    "    \"pragma solidity ^0.4.0;\",\n",
    "    \"pragma solidity >0.7.0;\",\n",
    "    \"pragma solidity >=0.7.2 <0.8.0;\",\n",
    "]\n",
    "print(find_compatible_version(pragmas))"
   ]
  },
  {
   "cell_type": "code",
   "execution_count": 103,
   "metadata": {},
   "outputs": [
    {
     "name": "stdout",
     "output_type": "stream",
     "text": [
      "Compatible compiler version found: 0.8.0\n"
     ]
    }
   ],
   "source": [
    "# Example usage\n",
    "pragmas = [\n",
    "    \"pragma solidity ^0.8.0\",\n",
    "    \"pragma solidity >=0.7.0 <0.9.0\",\n",
    "]\n",
    "print(find_compatible_version(pragmas))\n"
   ]
  },
  {
   "cell_type": "code",
   "execution_count": 104,
   "metadata": {},
   "outputs": [
    {
     "name": "stdout",
     "output_type": "stream",
     "text": [
      "Compatible compiler version found: 0.8.0\n"
     ]
    }
   ],
   "source": [
    "pragmas = [\n",
    "    \"pragma solidity ^0.8.0;\",\n",
    "    \"pragma solidity >0.4.0;\",\n",
    "    \"pragma solidity >=0.7.2 <0.8.0;\",\n",
    "]\n",
    "print(find_compatible_version(pragmas))\n"
   ]
  },
  {
   "cell_type": "code",
   "execution_count": null,
   "metadata": {},
   "outputs": [],
   "source": [
    "import os\n",
    "import re\n",
    "\n",
    "# Initialize an empty dictionary to hold the file paths and pragma declarations\n",
    "pragma_dict = {}\n",
    "\n",
    "# Define the root folder path (assume the script is running in the root folder)\n",
    "root_folder = '.'  # Current directory as root\n",
    "\n",
    "# Regular expression to match pragma declarations\n",
    "pragma_pattern = re.compile(r'^\\s*pragma\\s+[^;]+;')\n",
    "\n",
    "# Function to add pragma declarations from a file to the pragma_dict\n",
    "def add_pragma_declarations(file_path):\n",
    "    with open(file_path, 'r') as file:\n",
    "        content = file.readlines()\n",
    "        pragmas = [line.strip() for line in content if pragma_pattern.match(line)]\n",
    "        if pragmas:\n",
    "            # Use the relative path from the root folder as the key\n",
    "            relative_path = os.path.relpath(file_path, start=root_folder)\n",
    "            pragma_dict[relative_path] = pragmas\n",
    "\n",
    "# Traverse the folder structure\n",
    "for root, dirs, files in os.walk(root_folder):\n",
    "    # Limit the depth to 3 levels including the root folder\n",
    "    depth = root.count(os.sep) - root_folder.count(os.sep)\n",
    "    if depth <= 10:  # Adjust depth according to your requirement\n",
    "        for file in files:\n",
    "            if file.endswith('.sol'):\n",
    "                file_path = os.path.join(root, file)\n",
    "                add_pragma_declarations(file_path)\n",
    "    else:\n",
    "        # Skip deeper directories\n",
    "        dirs[:] = []  # Remove dirs to not go deeper\n",
    "\n",
    "# Now, pragma_dict contains the desired information\n",
    "print(pragma_dict)\n"
   ]
  },
  {
   "cell_type": "code",
   "execution_count": null,
   "metadata": {},
   "outputs": [],
   "source": [
    "compatible_pragmas = dict()\n",
    "count_nones = 0\n",
    "for file, pragmas in pragma_dict.items():\n",
    "    result = find_compatible_version(pragmas)\n",
    "    if result is None:\n",
    "        count_nones += 1\n",
    "    compatible_pragmas[f\"{file}\"] = result"
   ]
  },
  {
   "cell_type": "code",
   "execution_count": null,
   "metadata": {},
   "outputs": [],
   "source": [
    "len(compatible_pragmas)"
   ]
  },
  {
   "cell_type": "code",
   "execution_count": null,
   "metadata": {},
   "outputs": [],
   "source": [
    "count_nones"
   ]
  },
  {
   "cell_type": "code",
   "execution_count": null,
   "metadata": {},
   "outputs": [],
   "source": [
    "compatible_pragmas"
   ]
  },
  {
   "cell_type": "code",
   "execution_count": null,
   "metadata": {},
   "outputs": [],
   "source": [
    "pragma_dict['compilable_DAppSCAN/Chainsulting-GSPI Club-project2/openzeppelin-contracts-3.2.0/contracts/payment/escrow/ConditionalEscrow.sol']"
   ]
  },
  {
   "cell_type": "code",
   "execution_count": null,
   "metadata": {},
   "outputs": [],
   "source": [
    "[\n",
    "    '0.4.11',\n",
    "    '0.4.18',\n",
    "    '0.4.'\n",
    "]"
   ]
  }
 ],
 "metadata": {
  "kernelspec": {
   "display_name": "base",
   "language": "python",
   "name": "python3"
  },
  "language_info": {
   "codemirror_mode": {
    "name": "ipython",
    "version": 3
   },
   "file_extension": ".py",
   "mimetype": "text/x-python",
   "name": "python",
   "nbconvert_exporter": "python",
   "pygments_lexer": "ipython3",
   "version": "3.8.17"
  }
 },
 "nbformat": 4,
 "nbformat_minor": 2
}
