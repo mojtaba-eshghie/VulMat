{
 "cells": [
  {
   "cell_type": "code",
   "execution_count": 1,
   "metadata": {},
   "outputs": [],
   "source": [
    "import os\n",
    "import re\n",
    "import os\n",
    "import json\n",
    "import solcx\n",
    "import solcast\n",
    "import re\n",
    "import pandas as pd\n",
    "from solidity_parser import parser\n"
   ]
  },
  {
   "cell_type": "code",
   "execution_count": 2,
   "metadata": {},
   "outputs": [
    {
     "name": "stderr",
     "output_type": "stream",
     "text": [
      "5571dir [56:03,  1.66dir/s]                            "
     ]
    },
    {
     "name": "stdout",
     "output_type": "stream",
     "text": [
      "Failed files saved to: sc_datasets/bytecode_DAppSCAN/failed_files.txt\n"
     ]
    },
    {
     "name": "stderr",
     "output_type": "stream",
     "text": [
      "\n"
     ]
    }
   ],
   "source": [
    "import os\n",
    "import shutil\n",
    "import subprocess\n",
    "import re\n",
    "import solcx\n",
    "from tqdm import tqdm\n",
    "import json\n",
    "\n",
    "# Set the path to the original dataset folder\n",
    "original_dataset_path = './compilable_DAppSCAN'\n",
    "\n",
    "# Set the path to the new dataset folder\n",
    "new_dataset_path = 'AST_JSON_DAppSCAN'\n",
    "\n",
    "# Create the new dataset folder if it doesn't existß\n",
    "if not os.path.exists(new_dataset_path):\n",
    "    os.makedirs(new_dataset_path)\n",
    "\n",
    "# Get the total number of Solidity files for progress tracking\n",
    "total_dirs = sum(len(dirs) for _, dirs, _ in os.walk(original_dataset_path))\n",
    "\n",
    "# List to store the names of files that failed to compile\n",
    "failed_files = []\n",
    "\n",
    "# Iterate over Solidity files in the original dataset folder with progress tracking\n",
    "for root, _, files in tqdm(os.walk(original_dataset_path), total=total_dirs, unit='dir'):\n",
    "    for file in files:\n",
    "        if file.endswith('.sol'):\n",
    "            file_path = os.path.join(root, file)\n",
    "\n",
    "            try:\n",
    "                with open(file_path, 'r') as fp:\n",
    "                    content = fp.read()\n",
    "                    pragma = re.search(r'pragma solidity.*', content, re.MULTILINE).group(0)\n",
    "\n",
    "            except Exception as e:\n",
    "                print(f'Error getting solc version for {file_path}: {e}')\n",
    "                failed_files.append(file_path)\n",
    "                continue\n",
    "\n",
    "            if pragma:\n",
    "\n",
    "                try:\n",
    "                    solcx.set_solc_version_pragma(pragma)\n",
    "                except Exception as e:\n",
    "                    print(f'File: {file_path}')\n",
    "                    print(f'Error setting solc version to {pragma}: {e}')\n",
    "\n",
    "\n",
    "\n",
    "                # Compile the Solidity file using the appropriate solc version\n",
    "                try:\n",
    "\n",
    "                    with open(file_path, 'r') as f:\n",
    "                        content = f.read()\n",
    "\n",
    "                    result = solcx.compile_source(content, \n",
    "                                         output_values=[\"ast\"],\n",
    "                                         overwrite=True,\n",
    "                                         allow_empty=True\n",
    "                                         )\n",
    "                    \n",
    "                \n",
    "                    # Get the relative path within the original dataset folder\n",
    "                    relative_path = os.path.relpath(file_path, original_dataset_path)\n",
    "                    \n",
    "                    # Create the corresponding subfolders in the new dataset directory\n",
    "                    new_subfolder = os.path.join(new_dataset_path, os.path.dirname(relative_path))\n",
    "                    os.makedirs(new_subfolder, exist_ok=True)\n",
    "                    \n",
    "                    # Write the compiled code to a new file in the new dataset directory as json\n",
    "                    new_file_path = os.path.join(new_dataset_path, relative_path.strip('.sol') + '.json')\n",
    "                    with open(new_file_path, 'w') as f:\n",
    "                        json.dump(result, f, indent=4)\n",
    "\n",
    "                    # print(f'Successfully compiled {file_path} .')\n",
    "                    \n",
    "                except Exception as e:\n",
    "                    # print(f'Error compiling {file_path}: {e}')\n",
    "                    failed_files.append(file_path)\n",
    "            else:\n",
    "                print(f'Skipping {file_path}: No pragma statement found.')\n",
    "\n",
    "# Save the list of failed files to a text file\n",
    "failed_files_path = os.path.join(new_dataset_path, 'failed_files.txt')\n",
    "with open(failed_files_path, 'w') as file:\n",
    "    file.write('\\n'.join(failed_files))\n",
    "\n",
    "print(f'Failed files saved to: {failed_files_path}')"
   ]
  },
  {
   "cell_type": "code",
   "execution_count": 12,
   "metadata": {},
   "outputs": [
    {
     "data": {
      "text/plain": [
       "2215"
      ]
     },
     "execution_count": 12,
     "metadata": {},
     "output_type": "execute_result"
    }
   ],
   "source": [
    "len(failed_files)\n"
   ]
  },
  {
   "cell_type": "code",
   "execution_count": 6,
   "metadata": {},
   "outputs": [
    {
     "data": {
      "text/plain": [
       "'sc_datasets/bytecode_DAppSCAN/failed_files.txt'"
      ]
     },
     "execution_count": 6,
     "metadata": {},
     "output_type": "execute_result"
    }
   ],
   "source": []
  },
  {
   "cell_type": "code",
   "execution_count": null,
   "metadata": {},
   "outputs": [],
   "source": []
  }
 ],
 "metadata": {
  "kernelspec": {
   "display_name": "base",
   "language": "python",
   "name": "python3"
  },
  "language_info": {
   "codemirror_mode": {
    "name": "ipython",
    "version": 3
   },
   "file_extension": ".py",
   "mimetype": "text/x-python",
   "name": "python",
   "nbconvert_exporter": "python",
   "pygments_lexer": "ipython3",
   "version": "3.8.17"
  }
 },
 "nbformat": 4,
 "nbformat_minor": 2
}
